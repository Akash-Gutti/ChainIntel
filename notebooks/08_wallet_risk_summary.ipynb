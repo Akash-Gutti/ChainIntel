{
 "cells": [
  {
   "cell_type": "markdown",
   "id": "58903d7a",
   "metadata": {},
   "source": [
    "# 🛡️ ChainIntel: Wallet Risk Intelligence Report\n",
    "**Module 8.3 — Notebook Summary for Recruiters & Reviewers**\n",
    "\n",
    "This notebook provides a visual and analytical summary of suspicious Ethereum wallet behavior detected by ChainIntel v2.5."
   ]
  },
  {
   "cell_type": "markdown",
   "id": "c9dc5f3c",
   "metadata": {},
   "source": [
    "## 📁 Dataset Overview\n",
    "- Transactions: 100K+ over 6 months\n",
    "- Wallets analyzed: Inference-only (label == -1)\n",
    "- Clustering: KMeans (unsupervised)\n",
    "- Anomaly Detection: Isolation Forest\n",
    "- Summarization: GPT-4 forensic summaries\n"
   ]
  },
  {
   "cell_type": "code",
   "execution_count": null,
   "id": "50dc0f9c",
   "metadata": {},
   "outputs": [],
   "source": [
    "import pandas as pd\n",
    "df = pd.read_csv('data/processed/wallet_risk_report.csv', low_memory=False)\n",
    "df = df.rename(columns={\n",
    "    'anomaly_score_y': 'anomaly_score',\n",
    "    'cluster_id_y': 'cluster_id'\n",
    "})\n",
    "print('Total wallets:', len(df))\n",
    "print('Anomalous wallets:', (df.anomaly_score == 1).sum())\n",
    "print('Unique clusters:', df.cluster_id.nunique())"
   ]
  },
  {
   "cell_type": "markdown",
   "id": "6182d37e",
   "metadata": {},
   "source": [
    "## 🧠 Sample Wallet Risk Summaries"
   ]
  },
  {
   "cell_type": "code",
   "execution_count": null,
   "id": "f58e9d50",
   "metadata": {},
   "outputs": [],
   "source": [
    "df[['wallet', 'summary', 'cluster_id', 'anomaly_score']].dropna().sample(5, random_state=42)"
   ]
  },
  {
   "cell_type": "markdown",
   "id": "268cbd75",
   "metadata": {},
   "source": [
    "## 📊 Visual Insights"
   ]
  },
  {
   "cell_type": "markdown",
   "id": "5113c28f",
   "metadata": {},
   "source": [
    "### 🔹 Cluster Distribution"
   ]
  },
  {
   "cell_type": "code",
   "execution_count": null,
   "id": "1665b42f",
   "metadata": {},
   "outputs": [],
   "source": [
    "from IPython.display import Image\n",
    "Image(filename=f'{SCREENSHOT_PATH}/cluster_distribution.png')"
   ]
  },
  {
   "cell_type": "markdown",
   "id": "e2a58443",
   "metadata": {},
   "source": [
    "### 🔹 Anomaly Score Distribution"
   ]
  },
  {
   "cell_type": "code",
   "execution_count": null,
   "id": "79cba0c8",
   "metadata": {},
   "outputs": [],
   "source": [
    "Image(filename=f'{SCREENSHOT_PATH}/anomaly_score_dist.png')"
   ]
  },
  {
   "cell_type": "markdown",
   "id": "ec6ebc9b",
   "metadata": {},
   "source": [
    "### 🔹 Top Risk Factors"
   ]
  },
  {
   "cell_type": "code",
   "execution_count": null,
   "id": "da2135ee",
   "metadata": {},
   "outputs": [],
   "source": [
    "Image(filename=f'{SCREENSHOT_PATH}/top_features_barplot.png')"
   ]
  },
  {
   "cell_type": "markdown",
   "id": "c233a5ae",
   "metadata": {},
   "source": [
    "##🔄 Future Extensions\n",
    "- Deploy real-time wallet scoring APIs\n",
    "- Integrate alerts with Telegram/Discord\n",
    "- Add analyst feedback and audit trails\n",
    "- Export reports to PDF / dashboard view\n"
   ]
  }
 ],
 "metadata": {},
 "nbformat": 4,
 "nbformat_minor": 5
}
