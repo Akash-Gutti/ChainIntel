{
 "cells": [
  {
   "cell_type": "markdown",
   "id": "c0711827",
   "metadata": {},
   "source": [
    "# 🛡️ ChainIntel: Wallet Risk Intelligence Report\n",
    "**Module 8.3 — Notebook Summary for Recruiters & Reviewers**\n",
    "\n",
    "This notebook provides a visual and analytical summary of suspicious Ethereum wallet behavior detected by ChainIntel v2.5."
   ]
  },
  {
   "cell_type": "markdown",
   "id": "7ca585fd",
   "metadata": {},
   "source": [
    "## 📁 Dataset Overview\n",
    "- Transactions: 100K+ over 6 months\n",
    "- Wallets analyzed: Inference-only (label == -1)\n",
    "- Clustering: KMeans (unsupervised)\n",
    "- Anomaly Detection: Isolation Forest\n",
    "- Summarization: GPT-4 forensic summaries\n"
   ]
  },
  {
   "cell_type": "code",
   "execution_count": null,
   "id": "067b3975",
   "metadata": {},
   "outputs": [],
   "source": [
    "import pandas as pd\n",
    "df = pd.read_csv('data/processed/wallet_risk_report.csv', low_memory=False)\n",
    "df = df.rename(columns={\n",
    "    'anomaly_score_y': 'anomaly_score',\n",
    "    'cluster_id_y': 'cluster_id'\n",
    "})\n",
    "print('Total wallets:', len(df))\n",
    "print('Anomalous wallets:', (df.anomaly_score == 1).sum())\n",
    "print('Unique clusters:', df.cluster_id.nunique())"
   ]
  },
  {
   "cell_type": "markdown",
   "id": "05a9169f",
   "metadata": {},
   "source": [
    "## 🧠 Sample Wallet Risk Summaries"
   ]
  },
  {
   "cell_type": "code",
   "execution_count": null,
   "id": "51cf775c",
   "metadata": {},
   "outputs": [],
   "source": [
    "df[['wallet', 'summary', 'cluster_id', 'anomaly_score']].dropna().sample(5, random_state=42)"
   ]
  },
  {
   "cell_type": "markdown",
   "id": "f125187b",
   "metadata": {},
   "source": [
    "## 📊 Visual Insights"
   ]
  },
  {
   "cell_type": "markdown",
   "id": "33db19f4",
   "metadata": {},
   "source": [
    "### 🔹 Cluster Distribution"
   ]
  },
  {
   "cell_type": "code",
   "execution_count": null,
   "id": "d8dae29b",
   "metadata": {},
   "outputs": [],
   "source": [
    "from IPython.display import Image\n",
    "Image(filename=f'{SCREENSHOT_PATH}/cluster_distribution.png')"
   ]
  },
  {
   "cell_type": "markdown",
   "id": "2f2a065f",
   "metadata": {},
   "source": [
    "### 🔹 Anomaly Score Distribution"
   ]
  },
  {
   "cell_type": "code",
   "execution_count": null,
   "id": "20a7555f",
   "metadata": {},
   "outputs": [],
   "source": [
    "Image(filename=f'{SCREENSHOT_PATH}/anomaly_score_dist.png')"
   ]
  },
  {
   "cell_type": "markdown",
   "id": "c2f4f13b",
   "metadata": {},
   "source": [
    "##🔄 Future Extensions\n",
    "- Deploy real-time wallet scoring APIs\n",
    "- Integrate alerts with Telegram/Discord\n",
    "- Add analyst feedback and audit trails\n"
   ]
  }
 ],
 "metadata": {},
 "nbformat": 4,
 "nbformat_minor": 5
}
